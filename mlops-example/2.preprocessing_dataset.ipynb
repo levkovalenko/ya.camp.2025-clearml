{
 "cells": [
  {
   "cell_type": "code",
   "execution_count": null,
   "id": "e7938473",
   "metadata": {},
   "outputs": [
    {
     "name": "stdout",
     "output_type": "stream",
     "text": [
      "ClearML Task: created new task id=0739af9a2aa84f7ea8bfb9f41d311db4\n",
      "ClearML results page: http://89.169.184.62:30080/projects/3ad78869b7994342ad2f93dba10a2825/experiments/0739af9a2aa84f7ea8bfb9f41d311db4/output/log\n"
     ]
    },
    {
     "name": "stderr",
     "output_type": "stream",
     "text": [
      "Could not fetch function declared in __main__: <module '__main__'> is a built-in module\n",
      "Could not fetch function imports: <module '__main__'> is a built-in module\n"
     ]
    },
    {
     "name": "stdout",
     "output_type": "stream",
     "text": [
      "ClearML pipeline page: http://89.169.184.62:30080/pipelines/3ad78869b7994342ad2f93dba10a2825/experiments/0739af9a2aa84f7ea8bfb9f41d311db4\n"
     ]
    },
    {
     "data": {
      "text/plain": [
       "True"
      ]
     },
     "execution_count": 3,
     "metadata": {},
     "output_type": "execute_result"
    },
    {
     "ename": "",
     "evalue": "",
     "output_type": "error",
     "traceback": [
      "\u001b[1;31mThe Kernel crashed while executing code in the current cell or a previous cell. \n",
      "\u001b[1;31mPlease review the code in the cell(s) to identify a possible cause of the failure. \n",
      "\u001b[1;31mClick <a href='https://aka.ms/vscodeJupyterKernelCrash'>here</a> for more info. \n",
      "\u001b[1;31mView Jupyter <a href='command:jupyter.viewOutput'>log</a> for further details."
     ]
    }
   ],
   "source": [
    "from clearml import PipelineController\n",
    "\n",
    "pipe = PipelineController(\n",
    "    name=\"Pipeline Controller\", project=\"Amazon reviews\", version=\"1.0.0\"\n",
    ")\n",
    "pipe.add_parameter(\n",
    "    name=\"dataset_name\",\n",
    "    description=\"ClearML dataset name\",\n",
    "    default=\"Amazon reviews dataset\",\n",
    ")\n",
    "pipe.add_parameter(\n",
    "    name=\"dataset_project\",\n",
    "    description=\"ClearML project\",\n",
    "    default=\"Amazon reviews\",\n",
    ")\n",
    "pipe.add_parameter(\n",
    "    name=\"dataset_version\",\n",
    "    description=\"ClearML dataset version\",\n",
    "    default=\"1.2\",\n",
    ")\n",
    "pipe.add_parameter(\n",
    "    name=\"test_size\", description=\"Test ratio size\", default=0.2, param_type=\"float\"\n",
    ")\n",
    "pipe.add_parameter(\n",
    "    name=\"random_state\", description=\"Random state\", default=42, param_type=\"int\"\n",
    ")\n",
    "\n",
    "\n",
    "def dataset_train_test_split(\n",
    "    dataset_name, dataset_project, dataset_version, test_size, random_state\n",
    "):\n",
    "    from pathlib import Path\n",
    "\n",
    "    import pandas as pd\n",
    "    import polars as pl\n",
    "    from clearml import Dataset\n",
    "    from sklearn.model_selection import train_test_split\n",
    "\n",
    "    dataset = Dataset.get(\n",
    "        dataset_name=dataset_name,\n",
    "        dataset_project=dataset_project,\n",
    "        dataset_version=dataset_version,\n",
    "    )\n",
    "    datset_path = Path(dataset.get_local_copy())\n",
    "\n",
    "    data: pd.DataFrame = pl.concat(\n",
    "        [pl.read_csv(data_file) for data_file in datset_path.iterdir()]\n",
    "    )\n",
    "    train, test = train_test_split(\n",
    "        data.to_pandas(), test_size=float(test_size), random_state=int(random_state)\n",
    "    )\n",
    "    result_path = Path(\"data/prepared/\")\n",
    "    result_path.mkdir(exist_ok=True, parents=True)\n",
    "    train.to_csv(result_path / \"split\" / \"train.csv\")\n",
    "    test.to_csv(result_path / \"split\" / \"test.csv\")\n",
    "    prepared_dataset = Dataset.get(\n",
    "        dataset_name=dataset_name,\n",
    "        dataset_project=dataset_project,\n",
    "        dataset_version=f\"{dataset_version}.1\",\n",
    "    )\n",
    "    prepared_dataset.add_files(result_path / \"split\")\n",
    "    prepared_dataset.upload()\n",
    "    prepared_dataset.finalize()\n",
    "    return train, test\n",
    "\n",
    "\n",
    "pipe.add_function_step(\n",
    "    name=\"train_test_split\",\n",
    "    function=dataset_train_test_split,\n",
    "    function_kwargs=dict(\n",
    "        dataset_name=\"${pipeline.dataset_name}\",\n",
    "        dataset_project=\"${pipeline.dataset_project}\",\n",
    "        dataset_version=\"${pipeline.dataset_version}\",\n",
    "        test_size=\"${pipeline.test_size}\",\n",
    "        random_state=\"${pipeline.random_state}\",\n",
    "    ),\n",
    "    function_return=[\"train_dataframe\", \"test_dataframe\"],\n",
    "    cache_executed_step=True,\n",
    "    execution_queue=\"default\",\n",
    "    packages=[\n",
    "        \"clearml>=2.0.1,<3\",\n",
    "        \"scikit-learn>=1.7.0,<2\",\n",
    "        \"polars>=1.31.0,<2\",\n",
    "        \"pandas>=2.3.0,<3\",\n",
    "        \"pyarrow>=20.0.0,<21\",\n",
    "    ],\n",
    ")"
   ]
  },
  {
   "cell_type": "code",
   "execution_count": null,
   "id": "4b1b5742",
   "metadata": {},
   "outputs": [
    {
     "name": "stderr",
     "output_type": "stream",
     "text": [
      "Switching to remote execution, output log page http://89.169.184.62:30080/projects/3ad78869b7994342ad2f93dba10a2825/experiments/0739af9a2aa84f7ea8bfb9f41d311db4/output/log\n"
     ]
    }
   ],
   "source": [
    "pipe.start(\"default\")"
   ]
  },
  {
   "cell_type": "code",
   "execution_count": null,
   "id": "7d9d6f92",
   "metadata": {},
   "outputs": [],
   "source": []
  }
 ],
 "metadata": {
  "kernelspec": {
   "display_name": "default",
   "language": "python",
   "name": "python3"
  },
  "language_info": {
   "codemirror_mode": {
    "name": "ipython",
    "version": 3
   },
   "file_extension": ".py",
   "mimetype": "text/x-python",
   "name": "python",
   "nbconvert_exporter": "python",
   "pygments_lexer": "ipython3",
   "version": "3.13.5"
  }
 },
 "nbformat": 4,
 "nbformat_minor": 5
}
