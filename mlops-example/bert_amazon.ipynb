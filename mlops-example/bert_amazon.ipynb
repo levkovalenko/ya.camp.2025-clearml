{
 "cells": [
  {
   "cell_type": "code",
   "execution_count": 11,
   "metadata": {},
   "outputs": [
    {
     "name": "stderr",
     "output_type": "stream",
     "text": [
      "huggingface/tokenizers: The current process just got forked, after parallelism has already been used. Disabling parallelism to avoid deadlocks...\n",
      "To disable this warning, you can either:\n",
      "\t- Avoid using `tokenizers` before the fork if possible\n",
      "\t- Explicitly set the environment variable Event reporting sub-process lost, switching to thread based reporting\n"
     ]
    },
    {
     "name": "stdout",
     "output_type": "stream",
     "text": [
      "ClearML Task: created new task id=dc71d4102df14ecd8ad761a4ca38a59d\n",
      "ClearML results page: http://localhost:8080/projects/0d9acbd12b6a4e83a3d19d4a43632763/experiments/dc71d4102df14ecd8ad761a4ca38a59d/output/log\n"
     ]
    },
    {
     "name": "stderr",
     "output_type": "stream",
     "text": [
      "TOKENIZERS_PARALLELISM=(true | false)\n"
     ]
    }
   ],
   "source": [
    "import joblib\n",
    "import polars as pl\n",
    "from clearml import Dataset, Task\n",
    "\n",
    "task = Task.init(\n",
    "    project_name=\"Amazon reviews\", task_name=\"bert_solution\", output_uri=True\n",
    ")\n",
    "frame_path = Dataset.get(\n",
    "    dataset_name=\"Raw data\", dataset_project=\"Amazon reviews\"\n",
    ").get_local_copy()\n",
    "task.set_progress(0)\n",
    "data = pl.read_csv(\n",
    "    frame_path + \"/train.csv\",\n",
    "    has_header=False,\n",
    "    new_columns=[\"Polarity\", \"Title\", \"Review\"],\n",
    "    n_rows=5000,\n",
    ")"
   ]
  },
  {
   "cell_type": "code",
   "execution_count": 12,
   "metadata": {},
   "outputs": [],
   "source": [
    "from sklearn.linear_model import LogisticRegression\n",
    "from sklearn.model_selection import train_test_split\n",
    "\n",
    "random_state = 42\n",
    "\n",
    "train, test = train_test_split(\n",
    "    data,\n",
    "    test_size=0.3,\n",
    "    shuffle=True,\n",
    "    random_state=random_state,\n",
    ")"
   ]
  },
  {
   "cell_type": "markdown",
   "metadata": {},
   "source": [
    "Загружаем Bert модель и его токенайзер:"
   ]
  },
  {
   "cell_type": "code",
   "execution_count": 13,
   "metadata": {},
   "outputs": [],
   "source": [
    "import torch\n",
    "from transformers import AutoModel, AutoTokenizer\n",
    "\n",
    "model_name = \"bert-base-uncased\"\n",
    "device = torch.device(\"cuda\" if torch.cuda.is_available() else \"cpu\")\n",
    "\n",
    "tokenizer = AutoTokenizer.from_pretrained(model_name)\n",
    "bert_model = AutoModel.from_pretrained(model_name).to(device)"
   ]
  },
  {
   "cell_type": "code",
   "execution_count": 14,
   "metadata": {},
   "outputs": [
    {
     "data": {
      "text/plain": [
       "device(type='cuda')"
      ]
     },
     "execution_count": 14,
     "metadata": {},
     "output_type": "execute_result"
    }
   ],
   "source": [
    "device"
   ]
  },
  {
   "cell_type": "markdown",
   "metadata": {},
   "source": [
    "Будем загружать все батчами, т.к. все не влезет в память:"
   ]
  },
  {
   "cell_type": "code",
   "execution_count": 15,
   "metadata": {},
   "outputs": [],
   "source": [
    "from torch.utils.data import DataLoader\n",
    "\n",
    "fixed_batch_size = 128\n",
    "train_dataloader = DataLoader(\n",
    "    train[\"Review\"].to_list(), batch_size=fixed_batch_size, shuffle=False\n",
    ")\n",
    "test_dataloader = DataLoader(\n",
    "    test[\"Review\"].to_list(), batch_size=fixed_batch_size, shuffle=False\n",
    ")"
   ]
  },
  {
   "cell_type": "markdown",
   "metadata": {},
   "source": [
    "Инференс получаем как выход с последнего слоя берта:"
   ]
  },
  {
   "cell_type": "code",
   "execution_count": 16,
   "metadata": {},
   "outputs": [],
   "source": [
    "def batch_inference(batch):\n",
    "    tokenized_batch = tokenizer(\n",
    "        batch, padding=True, truncation=True, return_tensors=\"pt\"\n",
    "    ).to(device)\n",
    "    with torch.no_grad():\n",
    "        hidden_batch = bert_model(**tokenized_batch)\n",
    "        batch_embeddings = hidden_batch.last_hidden_state[:, 0, :].detach().to(\"cpu\")\n",
    "        return batch_embeddings\n",
    "\n",
    "\n",
    "train_embeddings = torch.concat(\n",
    "    [batch_inference(batch_data) for batch_data in train_dataloader]\n",
    ")\n",
    "test_embeddings = torch.concat(\n",
    "    [batch_inference(batch_data) for batch_data in test_dataloader]\n",
    ")"
   ]
  },
  {
   "cell_type": "code",
   "execution_count": 8,
   "metadata": {},
   "outputs": [
    {
     "data": {
      "text/plain": [
       "True"
      ]
     },
     "execution_count": 8,
     "metadata": {},
     "output_type": "execute_result"
    }
   ],
   "source": [
    "task.upload_artifact(\n",
    "    name=\"train_embeddings\",\n",
    "    artifact_object=train_embeddings,\n",
    ")\n",
    "task.upload_artifact(\n",
    "    name=\"test_embeddings\",\n",
    "    artifact_object=test_embeddings,\n",
    ")"
   ]
  },
  {
   "cell_type": "markdown",
   "metadata": {},
   "source": [
    "Попробуем обучить на этих эмбеддингах логистическую регрессию:"
   ]
  },
  {
   "cell_type": "code",
   "execution_count": 17,
   "metadata": {},
   "outputs": [
    {
     "name": "stderr",
     "output_type": "stream",
     "text": [
      "/home/levkovalenko/micromamba/envs/example/lib/python3.11/site-packages/sklearn/linear_model/_sag.py:350: ConvergenceWarning: The max_iter was reached which means the coef_ did not converge\n",
      "  warnings.warn(\n"
     ]
    }
   ],
   "source": [
    "from sklearn.metrics import classification_report, confusion_matrix\n",
    "\n",
    "model_params = {\n",
    "    \"multi_class\": \"multinomial\",\n",
    "    \"solver\": \"saga\",\n",
    "    \"random_state\": random_state,\n",
    "}\n",
    "task.connect(model_params)\n",
    "model_lr = LogisticRegression(**model_params)\n",
    "model_lr.fit(train_embeddings, train[\"Polarity\"])\n",
    "joblib.dump(model_lr, \"models/model.pkl\", compress=True)\n",
    "predicts = model_lr.predict(test_embeddings)\n",
    "report = classification_report(test[\"Polarity\"], predicts, output_dict=True)\n",
    "confusion = confusion_matrix(test[\"Polarity\"], predicts)\n",
    "\n",
    "logger = task.get_logger()\n",
    "logger.report_single_value(\"accuracy\", report.pop(\"accuracy\"))\n",
    "for class_name, metrics in report.items():\n",
    "    for metric, value in metrics.items():\n",
    "        logger.report_single_value(f\"{class_name}_{metric}\", value)\n",
    "logger.report_confusion_matrix(\"conflusion matrix\", \"ignored\", matrix=confusion)"
   ]
  },
  {
   "cell_type": "code",
   "execution_count": 18,
   "metadata": {},
   "outputs": [],
   "source": [
    "task.close()"
   ]
  },
  {
   "cell_type": "code",
   "execution_count": null,
   "metadata": {},
   "outputs": [],
   "source": []
  }
 ],
 "metadata": {
  "kernelspec": {
   "display_name": "mlops",
   "language": "python",
   "name": "python3"
  },
  "language_info": {
   "codemirror_mode": {
    "name": "ipython",
    "version": 3
   },
   "file_extension": ".py",
   "mimetype": "text/x-python",
   "name": "python",
   "nbconvert_exporter": "python",
   "pygments_lexer": "ipython3",
   "version": "3.11.9"
  }
 },
 "nbformat": 4,
 "nbformat_minor": 2
}
