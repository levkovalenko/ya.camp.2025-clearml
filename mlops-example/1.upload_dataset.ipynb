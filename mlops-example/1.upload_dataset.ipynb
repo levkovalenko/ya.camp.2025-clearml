{
 "cells": [
  {
   "cell_type": "code",
   "execution_count": null,
   "id": "e374d568",
   "metadata": {},
   "outputs": [],
   "source": [
    "from clearml import Dataset"
   ]
  },
  {
   "cell_type": "code",
   "execution_count": null,
   "id": "0e941841",
   "metadata": {},
   "outputs": [],
   "source": [
    "dataset = Dataset.create(\n",
    "    dataset_name=\"Amazon reviews dataset\",\n",
    "    dataset_project=\"Amazon reviews\",\n",
    "    dataset_version=\"1.0\",\n",
    "    description=\"Data from kagle project\",\n",
    ")\n",
    "dataset.finalize()"
   ]
  },
  {
   "cell_type": "code",
   "execution_count": null,
   "id": "65a91802",
   "metadata": {},
   "outputs": [],
   "source": [
    "import polars as pl\n",
    "\n",
    "for index, batch in enumerate(\n",
    "    pl.read_csv(\n",
    "        \"data/train.csv\",\n",
    "        has_header=False,\n",
    "        new_columns=[\"Polarity\", \"Title\", \"Review\"],\n",
    "    )\n",
    "    .with_row_index()\n",
    "    .with_columns(pl.col(\"index\") // 25000)\n",
    "    .partition_by(\"index\")\n",
    "):\n",
    "    batch.write_csv(f\"data/raw/batch_{index}.csv\")\n",
    "    polaritu_distrib = batch.group_by(\"Polarity\").len()\n",
    "    dataset = Dataset.create(\n",
    "        dataset_name=\"Amazon reviews dataset\",\n",
    "        dataset_project=\"Amazon reviews\",\n",
    "        parent_datasets=[dataset],\n",
    "        dataset_version=f\"1.{index}\",\n",
    "        description=\"Data from kagle project\",\n",
    "    )\n",
    "    dataset.add_files(path=f\"data/raw/batch_{index}.csv\")\n",
    "    dataset.get_logger().report_table(\n",
    "        \"Dataset Preview\", \"Dataset Preview\", table_plot=batch.head(5).to_pandas()\n",
    "    )\n",
    "    dataset.get_logger().report_histogram(\n",
    "        title=\"Polarity distribution\",\n",
    "        series=\"Polarity distribution\",\n",
    "        values=polaritu_distrib[\"len\"].to_list(),\n",
    "        xlabels=polaritu_distrib[\"Polarity\"].to_list(),\n",
    "        yaxis=\"Number of samples\",\n",
    "    )\n",
    "    dataset.upload()\n",
    "    dataset.finalize()"
   ]
  },
  {
   "cell_type": "code",
   "execution_count": null,
   "id": "4b1b5742",
   "metadata": {},
   "outputs": [],
   "source": []
  }
 ],
 "metadata": {
  "kernelspec": {
   "display_name": "default",
   "language": "python",
   "name": "python3"
  },
  "language_info": {
   "codemirror_mode": {
    "name": "ipython",
    "version": 3
   },
   "file_extension": ".py",
   "mimetype": "text/x-python",
   "name": "python",
   "nbconvert_exporter": "python",
   "pygments_lexer": "ipython3",
   "version": "3.12.0"
  }
 },
 "nbformat": 4,
 "nbformat_minor": 5
}
