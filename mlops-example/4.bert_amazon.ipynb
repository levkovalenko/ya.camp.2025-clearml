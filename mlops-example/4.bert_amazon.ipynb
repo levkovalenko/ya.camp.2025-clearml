{
 "cells": [
  {
   "cell_type": "code",
   "execution_count": null,
   "metadata": {},
   "outputs": [],
   "source": [
    "import joblib\n",
    "import polars as pl\n",
    "from clearml import Dataset, Task\n",
    "\n",
    "task = Task.init(project_name=\"Amazon reviews\", task_name=\"Bert\", output_uri=True)\n",
    "frame_path = Dataset.get(\n",
    "    dataset_name=\"Amazon reviews dataset\",\n",
    "    dataset_project=\"Amazon reviews\",\n",
    "    dataset_version=\"1.2.1\",\n",
    ").get_local_copy()\n",
    "train = pl.read_csv(frame_path + \"/raw_train.csv\")\n",
    "test = pl.read_csv(frame_path + \"/raw_test.csv\")"
   ]
  },
  {
   "cell_type": "markdown",
   "metadata": {},
   "source": [
    "Загружаем Bert модель и его токенайзер:"
   ]
  },
  {
   "cell_type": "code",
   "execution_count": null,
   "metadata": {},
   "outputs": [],
   "source": [
    "import torch\n",
    "from transformers import AutoModel, AutoTokenizer\n",
    "\n",
    "model_name = \"bert-base-uncased\"\n",
    "device = torch.device(\"cuda\" if torch.cuda.is_available() else \"cpu\")\n",
    "\n",
    "tokenizer = AutoTokenizer.from_pretrained(model_name)\n",
    "bert_model = AutoModel.from_pretrained(model_name).to(device)"
   ]
  },
  {
   "cell_type": "code",
   "execution_count": null,
   "metadata": {},
   "outputs": [],
   "source": [
    "device"
   ]
  },
  {
   "cell_type": "markdown",
   "metadata": {},
   "source": [
    "Будем загружать все батчами, т.к. все не влезет в память:"
   ]
  },
  {
   "cell_type": "code",
   "execution_count": null,
   "metadata": {},
   "outputs": [],
   "source": [
    "from torch.utils.data import DataLoader\n",
    "\n",
    "fixed_batch_size = 32\n",
    "train_dataloader = DataLoader(\n",
    "    train[\"Review\"].to_list(), batch_size=fixed_batch_size, shuffle=False\n",
    ")\n",
    "test_dataloader = DataLoader(\n",
    "    test[\"Review\"].to_list(), batch_size=fixed_batch_size, shuffle=False\n",
    ")"
   ]
  },
  {
   "cell_type": "markdown",
   "metadata": {},
   "source": [
    "Инференс получаем как выход с последнего слоя берта:"
   ]
  },
  {
   "cell_type": "code",
   "execution_count": null,
   "metadata": {},
   "outputs": [],
   "source": [
    "from tqdm.notebook import tqdm\n",
    "\n",
    "\n",
    "def batch_inference(batch):\n",
    "    tokenized_batch = tokenizer(\n",
    "        batch, padding=True, truncation=True, return_tensors=\"pt\"\n",
    "    ).to(device)\n",
    "    with torch.no_grad():\n",
    "        hidden_batch = bert_model(**tokenized_batch)\n",
    "        batch_embeddings = hidden_batch.last_hidden_state[:, 0, :].detach().to(\"cpu\")\n",
    "        return batch_embeddings\n",
    "\n",
    "\n",
    "train_embeddings = torch.concat(\n",
    "    [batch_inference(batch_data) for batch_data in tqdm(train_dataloader)]\n",
    ")\n",
    "test_embeddings = torch.concat(\n",
    "    [batch_inference(batch_data) for batch_data in tqdm(test_dataloader)]\n",
    ")"
   ]
  },
  {
   "cell_type": "code",
   "execution_count": null,
   "metadata": {},
   "outputs": [],
   "source": [
    "task.upload_artifact(\n",
    "    name=\"train_embeddings\",\n",
    "    artifact_object=train_embeddings,\n",
    ")\n",
    "task.upload_artifact(\n",
    "    name=\"test_embeddings\",\n",
    "    artifact_object=test_embeddings,\n",
    ")"
   ]
  },
  {
   "cell_type": "markdown",
   "metadata": {},
   "source": [
    "Попробуем обучить на этих эмбеддингах логистическую регрессию:"
   ]
  },
  {
   "cell_type": "code",
   "execution_count": null,
   "metadata": {},
   "outputs": [],
   "source": [
    "import pandas as pd\n",
    "from sklearn.linear_model import LogisticRegression\n",
    "from sklearn.metrics import classification_report, confusion_matrix\n",
    "\n",
    "random_state = 42\n",
    "model_params = {\n",
    "    \"multi_class\": \"multinomial\",\n",
    "    \"solver\": \"saga\",\n",
    "    \"random_state\": random_state,\n",
    "}\n",
    "task.connect(model_params)\n",
    "model_lr = LogisticRegression(**model_params)\n",
    "model_lr.fit(train_embeddings, train[\"Polarity\"])\n",
    "joblib.dump(model_lr, \"model.pkl\", compress=True)\n",
    "predicts = model_lr.predict(test_embeddings)\n",
    "report = classification_report(test[\"Polarity\"], predicts, output_dict=True)\n",
    "confusion = confusion_matrix(test[\"Polarity\"], predicts)\n",
    "\n",
    "logger = task.get_logger()\n",
    "logger.report_single_value(\"accuracy\", report.pop(\"accuracy\"))\n",
    "for class_name, metrics in report.items():\n",
    "    for metric, value in metrics.items():\n",
    "        logger.report_single_value(f\"{class_name}_{metric}\", value)\n",
    "logger.report_table(\n",
    "    \"Classifiacation Report\", \"Metrics\", table_plot=pd.DataFrame(report).T\n",
    ")\n",
    "logger.report_confusion_matrix(\n",
    "    \"Classifiacation Report\", \"ConflusionMatrix\", matrix=confusion\n",
    ")"
   ]
  },
  {
   "cell_type": "code",
   "execution_count": null,
   "metadata": {},
   "outputs": [],
   "source": [
    "task.mark_completed()"
   ]
  },
  {
   "cell_type": "code",
   "execution_count": null,
   "metadata": {},
   "outputs": [],
   "source": []
  }
 ],
 "metadata": {
  "kernelspec": {
   "display_name": "default",
   "language": "python",
   "name": "python3"
  },
  "language_info": {
   "codemirror_mode": {
    "name": "ipython",
    "version": 3
   },
   "file_extension": ".py",
   "mimetype": "text/x-python",
   "name": "python",
   "nbconvert_exporter": "python",
   "pygments_lexer": "ipython3",
   "version": "3.11.13"
  }
 },
 "nbformat": 4,
 "nbformat_minor": 2
}
